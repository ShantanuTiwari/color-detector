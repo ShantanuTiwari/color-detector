{
 "cells": [
  {
   "cell_type": "code",
   "execution_count": 10,
   "id": "b7762f6b",
   "metadata": {},
   "outputs": [],
   "source": [
    "import cv2\n",
    "import numpy as np\n",
    "from PIL import Image"
   ]
  },
  {
   "cell_type": "code",
   "execution_count": 11,
   "id": "28f3995d",
   "metadata": {},
   "outputs": [],
   "source": [
    "def get_limits(color):\n",
    "    c = np.uint8([[color]])\n",
    "    hsvC = cv2.cvtColor(c, cv2.COLOR_BGR2HSV)\n",
    "    \n",
    "    # only made for yellow\n",
    "    lowerlimit = hsvC[0][0][0] - 10, 100, 100\n",
    "    upperlimit = hsvC[0][0][0] + 10, 255, 255\n",
    "    \n",
    "    lowerlimit = np.array(lowerlimit, dtype=np.uint8)\n",
    "    upperlimit = np.array(upperlimit, dtype=np.uint8)\n",
    "    \n",
    "    return lowerlimit, upperlimit"
   ]
  },
  {
   "cell_type": "code",
   "execution_count": 13,
   "id": "bf1ffb6a",
   "metadata": {},
   "outputs": [],
   "source": [
    "cam = cv2.VideoCapture(0)\n",
    "yellow = [0, 255, 255] \n",
    "\n",
    "while True:\n",
    "    ret, frame = cam.read()\n",
    "    \n",
    "    hsvImg = cv2.cvtColor(frame, cv2.COLOR_BGR2HSV)\n",
    "    \n",
    "    lowerlimit, upperlimit = get_limits(color=yellow)\n",
    "    \n",
    "    mask = cv2.inRange(hsvImg, lowerlimit, upperlimit)\n",
    "    \n",
    "    mask_ = Image.fromarray(mask)\n",
    "    \n",
    "    bbox = mask_.getbbox()\n",
    "    \n",
    "    if bbox is not None:\n",
    "        x1, y1, x2, y2 = bbox\n",
    "        cv2.rectangle(frame, (x1,y1), (x2,y2), (0, 255, 0), 5)\n",
    "    \n",
    "    cv2.imshow('frame', frame)\n",
    "    \n",
    "    if cv2.waitKey(1) & 0xFF == ord('q'):\n",
    "        break\n",
    "\n",
    "cam.release()\n",
    "cv2.destroyAllWindows()\n"
   ]
  },
  {
   "cell_type": "code",
   "execution_count": 22,
   "id": "52c653e2",
   "metadata": {},
   "outputs": [],
   "source": []
  },
  {
   "cell_type": "code",
   "execution_count": null,
   "id": "db1055ce",
   "metadata": {},
   "outputs": [],
   "source": []
  }
 ],
 "metadata": {
  "kernelspec": {
   "display_name": "Python 3 (ipykernel)",
   "language": "python",
   "name": "python3"
  },
  "language_info": {
   "codemirror_mode": {
    "name": "ipython",
    "version": 3
   },
   "file_extension": ".py",
   "mimetype": "text/x-python",
   "name": "python",
   "nbconvert_exporter": "python",
   "pygments_lexer": "ipython3",
   "version": "3.11.4"
  }
 },
 "nbformat": 4,
 "nbformat_minor": 5
}
